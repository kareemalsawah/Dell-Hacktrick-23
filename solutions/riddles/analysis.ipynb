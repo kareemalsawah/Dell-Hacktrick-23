{
 "cells": [
  {
   "cell_type": "code",
   "execution_count": 4,
   "metadata": {},
   "outputs": [
    {
     "data": {
      "text/plain": [
       "'KDEMTAMDEMTAMDEMTAMTEMDEMTAMDAMDAMDEMTEMDAMTEMTAMTAMTAMTAMTAMDEMCMDAKQ'"
      ]
     },
     "execution_count": 4,
     "metadata": {},
     "output_type": "execute_result"
    }
   ],
   "source": [
    "cipher = \"KDEwMTAwMDExMTAxMDEwMTAwMTEwMDExMTAxMDAxMDAwMDExMTEwMDAwMTEwMTAwMTAxMTAxMTAwMTAxMDEwMCwxMDAxKQ\"\n",
    "plain = \"TomPassword\"\n",
    "comps = []\n",
    "for x in cipher.split(\"x\"):\n",
    "    # comps.append(x)\n",
    "    for letter in x.split(\"w\"):\n",
    "        if len(letter) > 0:\n",
    "            comps.append(letter)\n",
    "# firsts = []\n",
    "# seconds = []\n",
    "# for i in range(len(plain)):\n",
    "#     firsts.append(comps[2*i])\n",
    "#     seconds.append(comps[2*i+1])\n",
    "#     print(plain[i], comps[2*i]+\", \"+comps[2*i+1])\n",
    "# print(set(firsts))\n",
    "# print(set(seconds))\n",
    "#11001110 00101111 00101100\n",
    "#00110001 11010000 11010011\n",
    "\n",
    "''.join(comps)"
   ]
  },
  {
   "cell_type": "code",
   "execution_count": 3,
   "metadata": {},
   "outputs": [
    {
     "data": {
      "text/plain": [
       "(array(['A', 'C', 'D', 'E', 'K', 'M', 'Q', 'T', 'w', 'x'], dtype='<U1'),\n",
       " array([13,  1, 10,  9,  2, 22,  1, 12, 13, 11], dtype=int64))"
      ]
     },
     "execution_count": 3,
     "metadata": {},
     "output_type": "execute_result"
    }
   ],
   "source": [
    "import numpy as np\n",
    "np.unique([l for l in cipher], return_counts=True)"
   ]
  },
  {
   "cell_type": "code",
   "execution_count": 25,
   "metadata": {},
   "outputs": [
    {
     "data": {
      "text/plain": [
       "2"
      ]
     },
     "execution_count": 25,
     "metadata": {},
     "output_type": "execute_result"
    }
   ],
   "source": [
    "ord('C') - ord('A')"
   ]
  },
  {
   "cell_type": "code",
   "execution_count": 21,
   "metadata": {},
   "outputs": [
    {
     "name": "stdout",
     "output_type": "stream",
     "text": [
      "a 97\n",
      "b 98\n",
      "c 99\n",
      "d 100\n",
      "e 101\n",
      "f 102\n",
      "g 103\n",
      "h 104\n",
      "i 105\n",
      "j 106\n",
      "k 107\n",
      "l 108\n",
      "m 109\n",
      "n 110\n",
      "o 111\n",
      "p 112\n",
      "q 113\n",
      "r 114\n",
      "s 115\n",
      "t 116\n",
      "u 117\n",
      "v 118\n",
      "w 119\n",
      "x 120\n",
      "y 121\n",
      "z 122\n"
     ]
    }
   ],
   "source": [
    "for i in range(97, 97+26):\n",
    "    print(chr(i), i)"
   ]
  },
  {
   "cell_type": "code",
   "execution_count": 2,
   "metadata": {},
   "outputs": [
    {
     "name": "stdout",
     "output_type": "stream",
     "text": [
      "KDE H\n",
      "MDE a\n",
      "MDE C\n",
      "MTE k\n",
      "MDE T\n",
      "MDA r\n",
      "MDA I\n",
      "MDE c\n",
      "MTE K\n"
     ]
    },
    {
     "ename": "IndexError",
     "evalue": "string index out of range",
     "output_type": "error",
     "traceback": [
      "\u001b[1;31m---------------------------------------------------------------------------\u001b[0m",
      "\u001b[1;31mIndexError\u001b[0m                                Traceback (most recent call last)",
      "Cell \u001b[1;32mIn[2], line 5\u001b[0m\n\u001b[0;32m      3\u001b[0m \u001b[39mif\u001b[39;00m \u001b[39m\"\u001b[39m\u001b[39mMTA\u001b[39m\u001b[39m\"\u001b[39m \u001b[39m!=\u001b[39m comps[i]:\n\u001b[0;32m      4\u001b[0m     c \u001b[39m+\u001b[39m\u001b[39m=\u001b[39m \u001b[39m1\u001b[39m\n\u001b[1;32m----> 5\u001b[0m     \u001b[39mprint\u001b[39m(comps[i], plain[c]) \n",
      "\u001b[1;31mIndexError\u001b[0m: string index out of range"
     ]
    }
   ],
   "source": [
    "c = -1\n",
    "for i in range(0, len(comps)):\n",
    "    if \"MTA\" != comps[i]:\n",
    "        c += 1\n",
    "        print(comps[i], plain[c]) "
   ]
  },
  {
   "cell_type": "code",
   "execution_count": 14,
   "metadata": {},
   "outputs": [
    {
     "name": "stdout",
     "output_type": "stream",
     "text": [
      "['KDEwMTAwMDE' 'KQ' 'MDA' 'MDAwMDE' 'MDEwMCw' 'MDEwMTAwMTEwMDE' 'MTA'\n",
      " 'MTAwMTA' 'MTEwMDAwMTEwMTAwMTA'] [1 1 2 1 1 1 3 1 1]\n"
     ]
    },
    {
     "data": {
      "text/plain": [
       "12"
      ]
     },
     "execution_count": 14,
     "metadata": {},
     "output_type": "execute_result"
    }
   ],
   "source": [
    "import numpy as np\n",
    "l, u = np.unique(comps, return_counts=True)\n",
    "print(l, u)\n",
    "np.sum(u)"
   ]
  },
  {
   "cell_type": "code",
   "execution_count": 4,
   "metadata": {},
   "outputs": [
    {
     "name": "stdout",
     "output_type": "stream",
     "text": [
      "['KDE' 'KQ' 'MC' 'MDA' 'MDE' 'MTA' 'MTE'] [1 1 1 4 5 9 3]\n"
     ]
    },
    {
     "data": {
      "text/plain": [
       "24"
      ]
     },
     "execution_count": 4,
     "metadata": {},
     "output_type": "execute_result"
    }
   ],
   "source": [
    "l, u = np.unique(comps, return_counts=True)\n",
    "print(l, u)\n",
    "np.sum(u)"
   ]
  },
  {
   "cell_type": "code",
   "execution_count": 5,
   "metadata": {},
   "outputs": [
    {
     "name": "stdout",
     "output_type": "stream",
     "text": [
      "['KDE' 'KQ' 'MC' 'MDA' 'MDE' 'MTA' 'MTE'] [1 1 1 4 5 9 3]\n"
     ]
    },
    {
     "data": {
      "text/plain": [
       "24"
      ]
     },
     "execution_count": 5,
     "metadata": {},
     "output_type": "execute_result"
    }
   ],
   "source": [
    "l, u = np.unique(comps, return_counts=True)\n",
    "print(l, u)\n",
    "np.sum(u)"
   ]
  },
  {
   "cell_type": "code",
   "execution_count": 6,
   "metadata": {},
   "outputs": [
    {
     "data": {
      "text/plain": [
       "(array(['C', 'H', 'I', 'K', 'T', 'a', 'c', 'k', 'r'], dtype='<U1'),\n",
       " array([1, 1, 1, 1, 1, 1, 1, 1, 1], dtype=int64))"
      ]
     },
     "execution_count": 6,
     "metadata": {},
     "output_type": "execute_result"
    }
   ],
   "source": [
    "np.unique([l for l in plain], return_counts=True)"
   ]
  },
  {
   "cell_type": "code",
   "execution_count": 78,
   "metadata": {},
   "outputs": [
    {
     "name": "stdout",
     "output_type": "stream",
     "text": [
      "Mw Y\n",
      "VG o\n",
      "hF U\n",
      "NA g\n",
      "c0 O\n",
      "Vj t\n",
      "Um T\n",
      "VU h\n",
      "Mg E\n",
      "Z0 s\n",
      "90 E\n",
      "MQ c\n",
      "WW R\n",
      "9V e\n"
     ]
    }
   ],
   "source": [
    "cipher = \"Mw.VGhF.NA.c0VjUmVU.Mg.Z090.MQ.WW9V\"\n",
    "cipher = \"Mw.VG.hF.NA.c0.Vj.Um.VU.Mg.Z0.90.MQ.WW.9V\"\n",
    "plain = \"YoUgOtThEsEcReT\"\n",
    "for i in range(len(cipher.split(\".\"))):\n",
    "    print(cipher.split(\".\")[i], plain[i])"
   ]
  },
  {
   "cell_type": "code",
   "execution_count": 75,
   "metadata": {},
   "outputs": [
    {
     "data": {
      "text/plain": [
       "56"
      ]
     },
     "execution_count": 75,
     "metadata": {},
     "output_type": "execute_result"
    }
   ],
   "source": [
    "(ord('M')+ord('g'))%(26+26+10)"
   ]
  },
  {
   "cell_type": "code",
   "execution_count": 76,
   "metadata": {},
   "outputs": [
    {
     "data": {
      "text/plain": [
       "23"
      ]
     },
     "execution_count": 76,
     "metadata": {},
     "output_type": "execute_result"
    }
   ],
   "source": [
    "(ord('c')+ord(\"0\"))%62"
   ]
  },
  {
   "cell_type": "code",
   "execution_count": 77,
   "metadata": {},
   "outputs": [
    {
     "data": {
      "text/plain": [
       "43"
      ]
     },
     "execution_count": 77,
     "metadata": {},
     "output_type": "execute_result"
    }
   ],
   "source": [
    "(ord('9')+ord(\"0\"))%62"
   ]
  },
  {
   "cell_type": "code",
   "execution_count": 73,
   "metadata": {},
   "outputs": [
    {
     "data": {
      "text/plain": [
       "79"
      ]
     },
     "execution_count": 73,
     "metadata": {},
     "output_type": "execute_result"
    }
   ],
   "source": [
    "ord(\"O\")"
   ]
  },
  {
   "cell_type": "code",
   "execution_count": 5,
   "metadata": {},
   "outputs": [
    {
     "data": {
      "text/plain": [
       "63"
      ]
     },
     "execution_count": 5,
     "metadata": {},
     "output_type": "execute_result"
    }
   ],
   "source": [
    "ans = \"101000111010101001100111010010000111100001101001011011001010100\"\n",
    "len(ans)"
   ]
  },
  {
   "cell_type": "code",
   "execution_count": 13,
   "metadata": {},
   "outputs": [
    {
     "name": "stdout",
     "output_type": "stream",
     "text": [
      "HaCkTrIcK"
     ]
    }
   ],
   "source": [
    "ans = 'QjLtCaRlT'\n",
    "for c in ans:\n",
    "    count = 0\n",
    "    c = ord(c)\n",
    "    if c >= ord('a'):\n",
    "        while count < 9:\n",
    "            count += 1\n",
    "            c -= 1\n",
    "            if c < ord('a'):\n",
    "                c = ord('z')\n",
    "    else:\n",
    "        while count < 9:\n",
    "            count += 1\n",
    "            c -= 1\n",
    "            if c < ord('A'):\n",
    "                c = ord('Z')\n",
    "    print(chr(c), end=\"\")\n",
    "        "
   ]
  },
  {
   "cell_type": "code",
   "execution_count": 10,
   "metadata": {},
   "outputs": [
    {
     "data": {
      "text/plain": [
       "97"
      ]
     },
     "execution_count": 10,
     "metadata": {},
     "output_type": "execute_result"
    }
   ],
   "source": [
    "ord('a')"
   ]
  },
  {
   "cell_type": "code",
   "execution_count": null,
   "metadata": {},
   "outputs": [],
   "source": []
  }
 ],
 "metadata": {
  "kernelspec": {
   "display_name": "Python 3",
   "language": "python",
   "name": "python3"
  },
  "language_info": {
   "codemirror_mode": {
    "name": "ipython",
    "version": 3
   },
   "file_extension": ".py",
   "mimetype": "text/x-python",
   "name": "python",
   "nbconvert_exporter": "python",
   "pygments_lexer": "ipython3",
   "version": "3.10.5"
  },
  "orig_nbformat": 4
 },
 "nbformat": 4,
 "nbformat_minor": 2
}
